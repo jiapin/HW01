{
 "cells": [
  {
   "cell_type": "code",
   "execution_count": null,
   "metadata": {},
   "outputs": [],
   "source": [
    "import jieba\n",
    "import jieba.analyse\n",
    "import pandas\n",
    "import re\n",
    "import matplotlib.pyplot"
   ]
  },
  {
   "cell_type": "code",
   "execution_count": null,
   "metadata": {},
   "outputs": [],
   "source": [
    "def TF_IDF():\n",
    "    txt = open(\"HW01.txt\").read()\n",
    "    tags=jieba.analyse.extract_tags(txt, topk=100, withweight=True)\n",
    "    \n",
    "    DF=pandas.DataFrame(tags, columns = [\"word\",\"TF-IDF\"])\n",
    "    print(\"權重前100\")\n",
    "    ptint(df)\n",
    "    chart = df.plot(kind ='bar',title = 'word/TF-IDF',xlabel = 'word',ylabel = 'TF-IDF',figsize = (35,15))\n",
    "    \n",
    "    matplotlib.pyplot.show()\n",
    "def frequency():\n",
    "    seg_word = \"\"\n",
    "    txt = open(\"HW01.txt\").read()\n",
    "    ch = re.compile(\"[\\u4e00-\\u9fa5]\")\n",
    "    seg_word = \"\".join(ch.findall(txt))\n",
    "    cut = jieba.lcut(seg_word)\n",
    "\n",
    "    times = {}\n",
    "    for i in cut:\n",
    "        if(len(i)>1):\n",
    "            times[i]=times.get(i,0)+1\n",
    "            \n",
    "    items = list(times.item())\n",
    "    items.sort(key = lambda x:x[1], reverse = True)\n",
    "    \n",
    "    for i in range(100):\n",
    "        word,times = items[i]\n",
    "        \n",
    "    DF = pandas.DataFrame(items, columns = [\"word\",\"frequency\"]).sort_values(['frequency'], ascending= [False])[0:100]\n",
    "    print('頻率前100名的字詞')\n",
    "    print(DF)\n",
    "    chart=DF.plot(kind = 'bar',title = 'word/frequency', xlabel = 'word', ylabel='frequency', figsize=(35,15))\n",
    "    \n",
    "    matplotlib.pyplot.show\n",
    "frequency()\n",
    "\n",
    "TF_IDF()\n"
   ]
  }
 ],
 "metadata": {
  "kernelspec": {
   "display_name": "Python 3",
   "language": "python",
   "name": "python3"
  },
  "language_info": {
   "codemirror_mode": {
    "name": "ipython",
    "version": 3
   },
   "file_extension": ".py",
   "mimetype": "text/x-python",
   "name": "python",
   "nbconvert_exporter": "python",
   "pygments_lexer": "ipython3",
   "version": "3.7.6"
  }
 },
 "nbformat": 4,
 "nbformat_minor": 4
}
