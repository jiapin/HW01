{
 "cells": [
  {
   "cell_type": "code",
   "execution_count": null,
   "metadata": {},
   "outputs": [],
   "source": [
    "import jieba"
   ]
  },
  {
   "cell_type": "code",
   "execution_count": null,
   "metadata": {},
   "outputs": [],
   "source": [
    "def frequency():\n",
    "    seg_word = \"\"\n",
    "    txt = open(\"HW01.txt\").read()\n",
    "    ch = re.compile(\"[\\u4e00-\\u9fa5]\")\n",
    "    seg_word = \"\".join(ch.findall(txt))\n",
    "    cut = jieba.lcut(seg_word)\n",
    "\n",
    "    times = {}\n",
    "    for i in cut:\n",
    "        if(len(i)>1):\n",
    "            times[i]=times.get(i,0)+1\n",
    "            \n",
    "    items = list(times.item())\n",
    "    items.sort(key = lambda x:x[1])\n",
    "    \n",
    "    for i in range(100):\n",
    "        word,times = items[i]\n",
    "        \n"
   ]
  }
 ],
 "metadata": {
  "kernelspec": {
   "display_name": "Python 3",
   "language": "python",
   "name": "python3"
  },
  "language_info": {
   "codemirror_mode": {
    "name": "ipython",
    "version": 3
   },
   "file_extension": ".py",
   "mimetype": "text/x-python",
   "name": "python",
   "nbconvert_exporter": "python",
   "pygments_lexer": "ipython3",
   "version": "3.7.6"
  }
 },
 "nbformat": 4,
 "nbformat_minor": 4
}
